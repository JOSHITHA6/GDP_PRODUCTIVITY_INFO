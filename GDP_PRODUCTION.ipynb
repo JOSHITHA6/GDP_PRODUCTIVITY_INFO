{
  "nbformat": 4,
  "nbformat_minor": 0,
  "metadata": {
    "colab": {
      "provenance": [],
      "authorship_tag": "ABX9TyPF1+JiP4hkXMXe0UGfDbR4",
      "include_colab_link": true
    },
    "kernelspec": {
      "name": "python3",
      "display_name": "Python 3"
    },
    "language_info": {
      "name": "python"
    }
  },
  "cells": [
    {
      "cell_type": "markdown",
      "metadata": {
        "id": "view-in-github",
        "colab_type": "text"
      },
      "source": [
        "<a href=\"https://colab.research.google.com/github/JOSHITHA6/GDP_PRODUCTIVITY_INFO/blob/main/GDP_PRODUCTION.ipynb\" target=\"_parent\"><img src=\"https://colab.research.google.com/assets/colab-badge.svg\" alt=\"Open In Colab\"/></a>"
      ]
    },
    {
      "cell_type": "code",
      "execution_count": 1,
      "metadata": {
        "id": "cUOdUVjVwjE_"
      },
      "outputs": [],
      "source": [
        "import pandas as pd"
      ]
    },
    {
      "cell_type": "code",
      "source": [
        "GDP_SECTOR_INCOME/GDP_Sector_Income_2019_2023_30Cities.csv"
      ],
      "metadata": {
        "colab": {
          "base_uri": "https://localhost:8080/",
          "height": 141
        },
        "id": "DHL8E5wJzRSV",
        "outputId": "14e2b04c-be38-42de-f78f-1df7d9590132"
      },
      "execution_count": 2,
      "outputs": [
        {
          "output_type": "error",
          "ename": "NameError",
          "evalue": "name 'GDP_SECTOR_INCOME' is not defined",
          "traceback": [
            "\u001b[0;31m---------------------------------------------------------------------------\u001b[0m",
            "\u001b[0;31mNameError\u001b[0m                                 Traceback (most recent call last)",
            "\u001b[0;32m<ipython-input-2-3712b4b53d10>\u001b[0m in \u001b[0;36m<cell line: 1>\u001b[0;34m()\u001b[0m\n\u001b[0;32m----> 1\u001b[0;31m \u001b[0mGDP_SECTOR_INCOME\u001b[0m\u001b[0;34m/\u001b[0m\u001b[0mGDP_Sector_Income_2019_2023_30Cities\u001b[0m\u001b[0;34m.\u001b[0m\u001b[0mcsv\u001b[0m\u001b[0;34m\u001b[0m\u001b[0;34m\u001b[0m\u001b[0m\n\u001b[0m",
            "\u001b[0;31mNameError\u001b[0m: name 'GDP_SECTOR_INCOME' is not defined"
          ]
        }
      ]
    },
    {
      "cell_type": "code",
      "source": [
        "https://github.com/JOSHITHA6/GDP_PRODUCTIVITY_INFO/blob/main/GDP_SECTOR_INCOME/GDP_Sector_Income_2019_2023_30Cities.csv"
      ],
      "metadata": {
        "colab": {
          "base_uri": "https://localhost:8080/",
          "height": 144
        },
        "id": "jpevmQWozYRU",
        "outputId": "6cb643ed-07d9-4584-e350-4408f603e572"
      },
      "execution_count": 3,
      "outputs": [
        {
          "output_type": "error",
          "ename": "SyntaxError",
          "evalue": "invalid syntax (<ipython-input-3-08b00105787e>, line 1)",
          "traceback": [
            "\u001b[0;36m  File \u001b[0;32m\"<ipython-input-3-08b00105787e>\"\u001b[0;36m, line \u001b[0;32m1\u001b[0m\n\u001b[0;31m    https://github.com/JOSHITHA6/GDP_PRODUCTIVITY_INFO/blob/main/GDP_SECTOR_INCOME/GDP_Sector_Income_2019_2023_30Cities.csv\u001b[0m\n\u001b[0m          ^\u001b[0m\n\u001b[0;31mSyntaxError\u001b[0m\u001b[0;31m:\u001b[0m invalid syntax\n"
          ]
        }
      ]
    },
    {
      "cell_type": "code",
      "source": [
        "\n",
        "# Raw GitHub URL for your dataset\n",
        "url = 'https://raw.githubusercontent.com/JOSHITHA6/GDP_PRODUCTIVITY_INFO/main/GDP_SECTOR_INCOME/GDP_Sector_Income_2019_2023_30Cities.csv'\n",
        "\n",
        "# Load the dataset\n",
        "data = pd.read_csv(url)\n",
        "\n",
        "# Preview the dataset\n",
        "#print(data.head())\n"
      ],
      "metadata": {
        "id": "EArVg1-4z8V9"
      },
      "execution_count": 5,
      "outputs": []
    }
  ]
}