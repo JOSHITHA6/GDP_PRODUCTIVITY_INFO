{
  "nbformat": 4,
  "nbformat_minor": 0,
  "metadata": {
    "colab": {
      "provenance": [],
      "authorship_tag": "ABX9TyOPoJGeuzQ27tpOJM4ap2YE",
      "include_colab_link": true
    },
    "kernelspec": {
      "name": "python3",
      "display_name": "Python 3"
    },
    "language_info": {
      "name": "python"
    }
  },
  "cells": [
    {
      "cell_type": "markdown",
      "metadata": {
        "id": "view-in-github",
        "colab_type": "text"
      },
      "source": [
        "<a href=\"https://colab.research.google.com/github/JOSHITHA6/GDP_PRODUCTIVITY_INFO/blob/main/GDP_PRODUCTION_NEW.ipynb\" target=\"_parent\"><img src=\"https://colab.research.google.com/assets/colab-badge.svg\" alt=\"Open In Colab\"/></a>"
      ]
    },
    {
      "cell_type": "code",
      "execution_count": 1,
      "metadata": {
        "colab": {
          "base_uri": "https://localhost:8080/"
        },
        "id": "6U2VxFVVW7ee",
        "outputId": "818dc912-5f38-4983-8b04-9cf3f3944c3b"
      },
      "outputs": [
        {
          "output_type": "stream",
          "name": "stdout",
          "text": [
            "Merged dataset has been saved as 'Merged_Productivity_GDP.csv'\n",
            "        City  Year  R&D Expenditure (% of GDP)  \\\n",
            "0  Ahmedabad  2019                        1.06   \n",
            "1  Ahmedabad  2020                        1.93   \n",
            "2  Ahmedabad  2021                        1.60   \n",
            "3  Ahmedabad  2022                        1.40   \n",
            "4  Ahmedabad  2023                        0.73   \n",
            "\n",
            "   Patents per 100,000 Inhabitants  Unemployment Rate (%)  \\\n",
            "0                              3.4                    5.6   \n",
            "1                              2.1                    6.6   \n",
            "2                              6.6                    5.8   \n",
            "3                              6.3                    6.2   \n",
            "4                              2.9                    7.8   \n",
            "\n",
            "   Youth Unemployment Rate (%)  SME Employment (%)  \\\n",
            "0                         11.8                38.5   \n",
            "1                         10.4                19.5   \n",
            "2                          8.9                16.7   \n",
            "3                         10.7                33.5   \n",
            "4                         10.5                29.4   \n",
            "\n",
            "   Tourism Sector Employment (%)  ICT Sector Employment (%)  \\\n",
            "0                            5.2                       20.7   \n",
            "1                            4.2                        6.8   \n",
            "2                            5.1                       13.4   \n",
            "3                            7.5                       22.6   \n",
            "4                            6.5                       23.9   \n",
            "\n",
            "   GDP (in billion $)  Agriculture (%)  Industry (%)  Services (%)  \\\n",
            "0               187.2             15.7          32.1          40.9   \n",
            "1               211.5             11.6          37.8          49.3   \n",
            "2               247.9             12.9          31.4          48.5   \n",
            "3                71.8              5.3          36.7          45.6   \n",
            "4               294.7             17.0          29.2          45.6   \n",
            "\n",
            "   Technology (%)  \n",
            "0            20.6  \n",
            "1            19.6  \n",
            "2            11.8  \n",
            "3            31.8  \n",
            "4            13.0  \n"
          ]
        }
      ],
      "source": [
        "#Merging the datasets\n",
        "\n",
        "import pandas as pd\n",
        "\n",
        "# URLs of the datasets hosted on GitHub\n",
        "prod_url = 'https://raw.githubusercontent.com/JOSHITHA6/GDP_PRODUCTIVITY_INFO/main/DATASETS/Economy_Productivity_SD_India.csv'\n",
        "gdp_url = 'https://raw.githubusercontent.com/JOSHITHA6/GDP_PRODUCTIVITY_INFO/main/DATASETS/GDP_Sector_Income_2019_2023_30Cities.csv'\n",
        "\n",
        "# Load the datasets directly from GitHub\n",
        "prod_df = pd.read_csv(prod_url)\n",
        "gdp_df = pd.read_csv(gdp_url)\n",
        "\n",
        "# Merge the datasets on 'City' and 'Year' using an inner join\n",
        "merged_df = pd.merge(prod_df, gdp_df, on=['City', 'Year'], how='inner')\n",
        "\n",
        "# Save the merged dataset to a CSV file locally\n",
        "merged_df.to_csv('Merged_Productivity_GDP.csv', index=False)\n",
        "\n",
        "# Print confirmation and display the first few rows of the merged dataset\n",
        "print(\"Merged dataset has been saved as 'Merged_Productivity_GDP.csv'\")\n",
        "print(merged_df.head())\n"
      ]
    },
    {
      "cell_type": "code",
      "source": [
        "from google.colab import files\n",
        "\n",
        "# Save the merged dataset\n",
        "merged_df.to_csv('Merged_Productivity_GDP.csv', index=False)\n",
        "\n",
        "# Download the file to your desktop\n",
        "files.download('Merged_Productivity_GDP.csv')\n"
      ],
      "metadata": {
        "colab": {
          "base_uri": "https://localhost:8080/",
          "height": 17
        },
        "id": "6ToPrGsIZrb6",
        "outputId": "401a9995-3105-4ac1-af91-aefa2dea857b"
      },
      "execution_count": 2,
      "outputs": [
        {
          "output_type": "display_data",
          "data": {
            "text/plain": [
              "<IPython.core.display.Javascript object>"
            ],
            "application/javascript": [
              "\n",
              "    async function download(id, filename, size) {\n",
              "      if (!google.colab.kernel.accessAllowed) {\n",
              "        return;\n",
              "      }\n",
              "      const div = document.createElement('div');\n",
              "      const label = document.createElement('label');\n",
              "      label.textContent = `Downloading \"${filename}\": `;\n",
              "      div.appendChild(label);\n",
              "      const progress = document.createElement('progress');\n",
              "      progress.max = size;\n",
              "      div.appendChild(progress);\n",
              "      document.body.appendChild(div);\n",
              "\n",
              "      const buffers = [];\n",
              "      let downloaded = 0;\n",
              "\n",
              "      const channel = await google.colab.kernel.comms.open(id);\n",
              "      // Send a message to notify the kernel that we're ready.\n",
              "      channel.send({})\n",
              "\n",
              "      for await (const message of channel.messages) {\n",
              "        // Send a message to notify the kernel that we're ready.\n",
              "        channel.send({})\n",
              "        if (message.buffers) {\n",
              "          for (const buffer of message.buffers) {\n",
              "            buffers.push(buffer);\n",
              "            downloaded += buffer.byteLength;\n",
              "            progress.value = downloaded;\n",
              "          }\n",
              "        }\n",
              "      }\n",
              "      const blob = new Blob(buffers, {type: 'application/binary'});\n",
              "      const a = document.createElement('a');\n",
              "      a.href = window.URL.createObjectURL(blob);\n",
              "      a.download = filename;\n",
              "      div.appendChild(a);\n",
              "      a.click();\n",
              "      div.remove();\n",
              "    }\n",
              "  "
            ]
          },
          "metadata": {}
        },
        {
          "output_type": "display_data",
          "data": {
            "text/plain": [
              "<IPython.core.display.Javascript object>"
            ],
            "application/javascript": [
              "download(\"download_fedecd70-bcda-48fb-b66c-eaae7fc2d673\", \"Merged_Productivity_GDP.csv\", 5475)"
            ]
          },
          "metadata": {}
        }
      ]
    },
    {
      "cell_type": "markdown",
      "source": [
        "**NOTE** : The inner join only includes rows where the City and Year columns have matching values in both datasets.\n",
        "Rows with City-Year pairs that don’t match in both datasets are dropped.\n",
        "\n",
        "**Left Join**: Keeps all rows from the left dataset, even if there's no match in the right dataset.\n",
        "\n",
        "\n",
        "**Outer Join**: Keeps all rows from both datasets, filling missing values with NaN.\n",
        "\n"
      ],
      "metadata": {
        "id": "MuZaI4zRakQ3"
      }
    },
    {
      "cell_type": "markdown",
      "source": [
        "**METHOD EMPLOYED FOR MERGING THE DATA SETS:**\n",
        "\n",
        "pandas"
      ],
      "metadata": {
        "id": "bpgNKE_zbtRw"
      }
    }
  ]
}